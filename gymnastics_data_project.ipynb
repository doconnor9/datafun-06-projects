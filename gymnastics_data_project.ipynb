{
 "cells": [
  {
   "attachments": {},
   "cell_type": "markdown",
   "metadata": {},
   "source": [
    "# Diandra O'Connor Module 6 Project 2/15/23\n",
    "\n",
    "## Exploratory Data Project, domain: gymnastics\n",
    "\n",
    "### gymnastics_data_project.ipynb\n"
   ]
  },
  {
   "attachments": {},
   "cell_type": "markdown",
   "metadata": {},
   "source": [
    "## Use Pandas to load the csv dataset into a DataFrame"
   ]
  },
  {
   "attachments": {},
   "cell_type": "markdown",
   "metadata": {},
   "source": [
    "#### CSV file contains information from the Men's All Around Competition at the 2017 World Gymnastics Championships"
   ]
  },
  {
   "cell_type": "code",
   "execution_count": 24,
   "metadata": {},
   "outputs": [],
   "source": [
    "import pandas as pd\n",
    "\n",
    "Worlds2017 = pd.read_csv('World_Champs_Mens_All-Around.csv')"
   ]
  },
  {
   "attachments": {},
   "cell_type": "markdown",
   "metadata": {},
   "source": [
    "## View first 5 rows and last 5 rows using methods head() and tail()"
   ]
  },
  {
   "attachments": {},
   "cell_type": "markdown",
   "metadata": {},
   "source": [
    "#### Dataset contains 144 rows with information from 24 different gymnasts on 6 events"
   ]
  },
  {
   "cell_type": "code",
   "execution_count": 25,
   "metadata": {},
   "outputs": [
    {
     "data": {
      "text/html": [
       "<div>\n",
       "<style scoped>\n",
       "    .dataframe tbody tr th:only-of-type {\n",
       "        vertical-align: middle;\n",
       "    }\n",
       "\n",
       "    .dataframe tbody tr th {\n",
       "        vertical-align: top;\n",
       "    }\n",
       "\n",
       "    .dataframe thead th {\n",
       "        text-align: right;\n",
       "    }\n",
       "</style>\n",
       "<table border=\"1\" class=\"dataframe\">\n",
       "  <thead>\n",
       "    <tr style=\"text-align: right;\">\n",
       "      <th></th>\n",
       "      <th>Name</th>\n",
       "      <th>Overall Rank</th>\n",
       "      <th>Nationality</th>\n",
       "      <th>Apparatus</th>\n",
       "      <th>Diff</th>\n",
       "      <th>Exec</th>\n",
       "      <th>Total</th>\n",
       "      <th>Rank</th>\n",
       "    </tr>\n",
       "  </thead>\n",
       "  <tbody>\n",
       "    <tr>\n",
       "      <th>0</th>\n",
       "      <td>Xiao Ruoteng</td>\n",
       "      <td>1</td>\n",
       "      <td>CHN</td>\n",
       "      <td>Floor</td>\n",
       "      <td>5.9</td>\n",
       "      <td>8.53</td>\n",
       "      <td>14.43</td>\n",
       "      <td>5</td>\n",
       "    </tr>\n",
       "    <tr>\n",
       "      <th>1</th>\n",
       "      <td>Xiao Ruoteng</td>\n",
       "      <td>1</td>\n",
       "      <td>CHN</td>\n",
       "      <td>Pommel Horse</td>\n",
       "      <td>6.1</td>\n",
       "      <td>8.70</td>\n",
       "      <td>14.80</td>\n",
       "      <td>2</td>\n",
       "    </tr>\n",
       "    <tr>\n",
       "      <th>2</th>\n",
       "      <td>Xiao Ruoteng</td>\n",
       "      <td>1</td>\n",
       "      <td>CHN</td>\n",
       "      <td>Rings</td>\n",
       "      <td>5.7</td>\n",
       "      <td>8.10</td>\n",
       "      <td>13.80</td>\n",
       "      <td>10</td>\n",
       "    </tr>\n",
       "    <tr>\n",
       "      <th>3</th>\n",
       "      <td>Xiao Ruoteng</td>\n",
       "      <td>1</td>\n",
       "      <td>CHN</td>\n",
       "      <td>Vault</td>\n",
       "      <td>5.6</td>\n",
       "      <td>9.30</td>\n",
       "      <td>14.90</td>\n",
       "      <td>3</td>\n",
       "    </tr>\n",
       "    <tr>\n",
       "      <th>4</th>\n",
       "      <td>Xiao Ruoteng</td>\n",
       "      <td>1</td>\n",
       "      <td>CHN</td>\n",
       "      <td>PBars</td>\n",
       "      <td>6.0</td>\n",
       "      <td>8.60</td>\n",
       "      <td>14.60</td>\n",
       "      <td>8</td>\n",
       "    </tr>\n",
       "  </tbody>\n",
       "</table>\n",
       "</div>"
      ],
      "text/plain": [
       "           Name  Overall Rank Nationality     Apparatus  Diff  Exec  Total  \\\n",
       "0  Xiao Ruoteng             1         CHN         Floor   5.9  8.53  14.43   \n",
       "1  Xiao Ruoteng             1         CHN  Pommel Horse   6.1  8.70  14.80   \n",
       "2  Xiao Ruoteng             1         CHN         Rings   5.7  8.10  13.80   \n",
       "3  Xiao Ruoteng             1         CHN         Vault   5.6  9.30  14.90   \n",
       "4  Xiao Ruoteng             1         CHN         PBars   6.0  8.60  14.60   \n",
       "\n",
       "   Rank  \n",
       "0     5  \n",
       "1     2  \n",
       "2    10  \n",
       "3     3  \n",
       "4     8  "
      ]
     },
     "execution_count": 25,
     "metadata": {},
     "output_type": "execute_result"
    }
   ],
   "source": [
    "Worlds2017.head()"
   ]
  },
  {
   "cell_type": "code",
   "execution_count": 26,
   "metadata": {},
   "outputs": [
    {
     "data": {
      "text/html": [
       "<div>\n",
       "<style scoped>\n",
       "    .dataframe tbody tr th:only-of-type {\n",
       "        vertical-align: middle;\n",
       "    }\n",
       "\n",
       "    .dataframe tbody tr th {\n",
       "        vertical-align: top;\n",
       "    }\n",
       "\n",
       "    .dataframe thead th {\n",
       "        text-align: right;\n",
       "    }\n",
       "</style>\n",
       "<table border=\"1\" class=\"dataframe\">\n",
       "  <thead>\n",
       "    <tr style=\"text-align: right;\">\n",
       "      <th></th>\n",
       "      <th>Name</th>\n",
       "      <th>Overall Rank</th>\n",
       "      <th>Nationality</th>\n",
       "      <th>Apparatus</th>\n",
       "      <th>Diff</th>\n",
       "      <th>Exec</th>\n",
       "      <th>Total</th>\n",
       "      <th>Rank</th>\n",
       "    </tr>\n",
       "  </thead>\n",
       "  <tbody>\n",
       "    <tr>\n",
       "      <th>139</th>\n",
       "      <td>Joel Plata Rodriguez</td>\n",
       "      <td>24</td>\n",
       "      <td>SP</td>\n",
       "      <td>Pommel Horse</td>\n",
       "      <td>4.1</td>\n",
       "      <td>6.53</td>\n",
       "      <td>10.63</td>\n",
       "      <td>24</td>\n",
       "    </tr>\n",
       "    <tr>\n",
       "      <th>140</th>\n",
       "      <td>Joel Plata Rodriguez</td>\n",
       "      <td>24</td>\n",
       "      <td>SP</td>\n",
       "      <td>Rings</td>\n",
       "      <td>5.1</td>\n",
       "      <td>8.40</td>\n",
       "      <td>13.50</td>\n",
       "      <td>15</td>\n",
       "    </tr>\n",
       "    <tr>\n",
       "      <th>141</th>\n",
       "      <td>Joel Plata Rodriguez</td>\n",
       "      <td>24</td>\n",
       "      <td>SP</td>\n",
       "      <td>Vault</td>\n",
       "      <td>4.8</td>\n",
       "      <td>8.83</td>\n",
       "      <td>13.63</td>\n",
       "      <td>22</td>\n",
       "    </tr>\n",
       "    <tr>\n",
       "      <th>142</th>\n",
       "      <td>Joel Plata Rodriguez</td>\n",
       "      <td>24</td>\n",
       "      <td>SP</td>\n",
       "      <td>PBars</td>\n",
       "      <td>5.4</td>\n",
       "      <td>8.00</td>\n",
       "      <td>13.40</td>\n",
       "      <td>21</td>\n",
       "    </tr>\n",
       "    <tr>\n",
       "      <th>143</th>\n",
       "      <td>Joel Plata Rodriguez</td>\n",
       "      <td>24</td>\n",
       "      <td>SP</td>\n",
       "      <td>High Bar</td>\n",
       "      <td>5.5</td>\n",
       "      <td>6.37</td>\n",
       "      <td>11.87</td>\n",
       "      <td>23</td>\n",
       "    </tr>\n",
       "  </tbody>\n",
       "</table>\n",
       "</div>"
      ],
      "text/plain": [
       "                     Name  Overall Rank Nationality     Apparatus  Diff  Exec  \\\n",
       "139  Joel Plata Rodriguez            24          SP  Pommel Horse   4.1  6.53   \n",
       "140  Joel Plata Rodriguez            24          SP         Rings   5.1  8.40   \n",
       "141  Joel Plata Rodriguez            24          SP         Vault   4.8  8.83   \n",
       "142  Joel Plata Rodriguez            24          SP         PBars   5.4  8.00   \n",
       "143  Joel Plata Rodriguez            24          SP      High Bar   5.5  6.37   \n",
       "\n",
       "     Total  Rank  \n",
       "139  10.63    24  \n",
       "140  13.50    15  \n",
       "141  13.63    22  \n",
       "142  13.40    21  \n",
       "143  11.87    23  "
      ]
     },
     "execution_count": 26,
     "metadata": {},
     "output_type": "execute_result"
    }
   ],
   "source": [
    "Worlds2017.tail()"
   ]
  },
  {
   "attachments": {},
   "cell_type": "markdown",
   "metadata": {},
   "source": [
    "## Rename columns for workability"
   ]
  },
  {
   "cell_type": "code",
   "execution_count": 27,
   "metadata": {},
   "outputs": [],
   "source": [
    "Worlds2017.columns = ['name', 'overall rank', 'country', 'event', 'D_score', 'E_score', 'total', 'event rank']"
   ]
  },
  {
   "attachments": {},
   "cell_type": "markdown",
   "metadata": {},
   "source": [
    "## View first 5 rows of DataFrame to show changes to column names"
   ]
  },
  {
   "cell_type": "code",
   "execution_count": 28,
   "metadata": {},
   "outputs": [
    {
     "data": {
      "text/html": [
       "<div>\n",
       "<style scoped>\n",
       "    .dataframe tbody tr th:only-of-type {\n",
       "        vertical-align: middle;\n",
       "    }\n",
       "\n",
       "    .dataframe tbody tr th {\n",
       "        vertical-align: top;\n",
       "    }\n",
       "\n",
       "    .dataframe thead th {\n",
       "        text-align: right;\n",
       "    }\n",
       "</style>\n",
       "<table border=\"1\" class=\"dataframe\">\n",
       "  <thead>\n",
       "    <tr style=\"text-align: right;\">\n",
       "      <th></th>\n",
       "      <th>name</th>\n",
       "      <th>overall rank</th>\n",
       "      <th>country</th>\n",
       "      <th>event</th>\n",
       "      <th>D_score</th>\n",
       "      <th>E_score</th>\n",
       "      <th>total</th>\n",
       "      <th>event rank</th>\n",
       "    </tr>\n",
       "  </thead>\n",
       "  <tbody>\n",
       "    <tr>\n",
       "      <th>0</th>\n",
       "      <td>Xiao Ruoteng</td>\n",
       "      <td>1</td>\n",
       "      <td>CHN</td>\n",
       "      <td>Floor</td>\n",
       "      <td>5.9</td>\n",
       "      <td>8.53</td>\n",
       "      <td>14.43</td>\n",
       "      <td>5</td>\n",
       "    </tr>\n",
       "    <tr>\n",
       "      <th>1</th>\n",
       "      <td>Xiao Ruoteng</td>\n",
       "      <td>1</td>\n",
       "      <td>CHN</td>\n",
       "      <td>Pommel Horse</td>\n",
       "      <td>6.1</td>\n",
       "      <td>8.70</td>\n",
       "      <td>14.80</td>\n",
       "      <td>2</td>\n",
       "    </tr>\n",
       "    <tr>\n",
       "      <th>2</th>\n",
       "      <td>Xiao Ruoteng</td>\n",
       "      <td>1</td>\n",
       "      <td>CHN</td>\n",
       "      <td>Rings</td>\n",
       "      <td>5.7</td>\n",
       "      <td>8.10</td>\n",
       "      <td>13.80</td>\n",
       "      <td>10</td>\n",
       "    </tr>\n",
       "    <tr>\n",
       "      <th>3</th>\n",
       "      <td>Xiao Ruoteng</td>\n",
       "      <td>1</td>\n",
       "      <td>CHN</td>\n",
       "      <td>Vault</td>\n",
       "      <td>5.6</td>\n",
       "      <td>9.30</td>\n",
       "      <td>14.90</td>\n",
       "      <td>3</td>\n",
       "    </tr>\n",
       "    <tr>\n",
       "      <th>4</th>\n",
       "      <td>Xiao Ruoteng</td>\n",
       "      <td>1</td>\n",
       "      <td>CHN</td>\n",
       "      <td>PBars</td>\n",
       "      <td>6.0</td>\n",
       "      <td>8.60</td>\n",
       "      <td>14.60</td>\n",
       "      <td>8</td>\n",
       "    </tr>\n",
       "  </tbody>\n",
       "</table>\n",
       "</div>"
      ],
      "text/plain": [
       "           name  overall rank country         event  D_score  E_score  total  \\\n",
       "0  Xiao Ruoteng             1     CHN         Floor      5.9     8.53  14.43   \n",
       "1  Xiao Ruoteng             1     CHN  Pommel Horse      6.1     8.70  14.80   \n",
       "2  Xiao Ruoteng             1     CHN         Rings      5.7     8.10  13.80   \n",
       "3  Xiao Ruoteng             1     CHN         Vault      5.6     9.30  14.90   \n",
       "4  Xiao Ruoteng             1     CHN         PBars      6.0     8.60  14.60   \n",
       "\n",
       "   event rank  \n",
       "0           5  \n",
       "1           2  \n",
       "2          10  \n",
       "3           3  \n",
       "4           8  "
      ]
     },
     "execution_count": 28,
     "metadata": {},
     "output_type": "execute_result"
    }
   ],
   "source": [
    "Worlds2017.head()"
   ]
  },
  {
   "attachments": {},
   "cell_type": "markdown",
   "metadata": {},
   "source": [
    "## Get unique values for the event column"
   ]
  },
  {
   "attachments": {},
   "cell_type": "markdown",
   "metadata": {},
   "source": [
    "#### You'll notice 6 unique values which are the 6 events the men compete on"
   ]
  },
  {
   "cell_type": "code",
   "execution_count": 29,
   "metadata": {},
   "outputs": [
    {
     "data": {
      "text/plain": [
       "array(['Floor', 'Pommel Horse', 'Rings', 'Vault', 'PBars', 'High Bar'],\n",
       "      dtype=object)"
      ]
     },
     "execution_count": 29,
     "metadata": {},
     "output_type": "execute_result"
    }
   ],
   "source": [
    "events = Worlds2017[\"event\"].unique()\n",
    "\n",
    "events    # this shows us the terminology used for each event"
   ]
  },
  {
   "attachments": {},
   "cell_type": "markdown",
   "metadata": {},
   "source": [
    "## Creat a DataFrame for each event and find the average scores"
   ]
  },
  {
   "attachments": {},
   "cell_type": "markdown",
   "metadata": {},
   "source": [
    "### Floor"
   ]
  },
  {
   "cell_type": "code",
   "execution_count": 30,
   "metadata": {},
   "outputs": [],
   "source": [
    "Worlds2017_Floor = pd.DataFrame(Worlds2017.loc[Worlds2017['event'] == 'Floor'])  "
   ]
  },
  {
   "cell_type": "code",
   "execution_count": 31,
   "metadata": {},
   "outputs": [
    {
     "data": {
      "text/plain": [
       "total      13.81\n",
       "D_score     5.71\n",
       "E_score     8.11\n",
       "dtype: float64"
      ]
     },
     "execution_count": 31,
     "metadata": {},
     "output_type": "execute_result"
    }
   ],
   "source": [
    "pd.set_option('display.precision', 2)  # round to 2 decimal places\n",
    "\n",
    "Worlds2017_Floor[['total', 'D_score', 'E_score']].mean()  # D score = difficulty, E score = execution"
   ]
  },
  {
   "attachments": {},
   "cell_type": "markdown",
   "metadata": {},
   "source": [
    "### Pommel Horse"
   ]
  },
  {
   "cell_type": "code",
   "execution_count": 32,
   "metadata": {},
   "outputs": [],
   "source": [
    "Worlds2017_Pommel_Horse = pd.DataFrame(Worlds2017.loc[Worlds2017['event'] == 'Pommel Horse'])"
   ]
  },
  {
   "cell_type": "code",
   "execution_count": 33,
   "metadata": {},
   "outputs": [
    {
     "data": {
      "text/plain": [
       "total      13.21\n",
       "D_score     5.48\n",
       "E_score     7.73\n",
       "dtype: float64"
      ]
     },
     "execution_count": 33,
     "metadata": {},
     "output_type": "execute_result"
    }
   ],
   "source": [
    "pd.set_option('display.precision', 2)\n",
    "\n",
    "Worlds2017_Pommel_Horse[['total', 'D_score', 'E_score']].mean()"
   ]
  },
  {
   "attachments": {},
   "cell_type": "markdown",
   "metadata": {},
   "source": [
    "### Rings"
   ]
  },
  {
   "cell_type": "code",
   "execution_count": 34,
   "metadata": {},
   "outputs": [],
   "source": [
    "Worlds2017_Rings = pd.DataFrame(Worlds2017.loc[Worlds2017['event'] == 'Rings'])"
   ]
  },
  {
   "cell_type": "code",
   "execution_count": 35,
   "metadata": {},
   "outputs": [
    {
     "data": {
      "text/plain": [
       "total      13.59\n",
       "D_score     5.35\n",
       "E_score     8.24\n",
       "dtype: float64"
      ]
     },
     "execution_count": 35,
     "metadata": {},
     "output_type": "execute_result"
    }
   ],
   "source": [
    "pd.set_option('display.precision', 2)\n",
    "\n",
    "Worlds2017_Rings[['total', 'D_score', 'E_score']].mean()"
   ]
  },
  {
   "attachments": {},
   "cell_type": "markdown",
   "metadata": {},
   "source": [
    "### Vault"
   ]
  },
  {
   "cell_type": "code",
   "execution_count": 36,
   "metadata": {},
   "outputs": [],
   "source": [
    "Worlds2017_Vault = pd.DataFrame(Worlds2017.loc[Worlds2017['event'] == 'Vault'])"
   ]
  },
  {
   "cell_type": "code",
   "execution_count": 37,
   "metadata": {},
   "outputs": [
    {
     "data": {
      "text/plain": [
       "total      14.29\n",
       "D_score     5.23\n",
       "E_score     9.06\n",
       "dtype: float64"
      ]
     },
     "execution_count": 37,
     "metadata": {},
     "output_type": "execute_result"
    }
   ],
   "source": [
    "pd.set_option('display.precision', 2)\n",
    "\n",
    "Worlds2017_Vault[['total', 'D_score', 'E_score']].mean()"
   ]
  },
  {
   "attachments": {},
   "cell_type": "markdown",
   "metadata": {},
   "source": [
    "### Parallel Bars"
   ]
  },
  {
   "cell_type": "code",
   "execution_count": 38,
   "metadata": {},
   "outputs": [],
   "source": [
    "Worlds2017_PBars = pd.DataFrame(Worlds2017.loc[Worlds2017['event'] == 'PBars'])"
   ]
  },
  {
   "cell_type": "code",
   "execution_count": 39,
   "metadata": {},
   "outputs": [
    {
     "data": {
      "text/plain": [
       "total      14.19\n",
       "D_score     5.90\n",
       "E_score     8.29\n",
       "dtype: float64"
      ]
     },
     "execution_count": 39,
     "metadata": {},
     "output_type": "execute_result"
    }
   ],
   "source": [
    "pd.set_option('display.precision', 2)\n",
    "\n",
    "Worlds2017_PBars[['total', 'D_score', 'E_score']].mean()"
   ]
  },
  {
   "attachments": {},
   "cell_type": "markdown",
   "metadata": {},
   "source": [
    "### High Bar"
   ]
  },
  {
   "cell_type": "code",
   "execution_count": 40,
   "metadata": {},
   "outputs": [],
   "source": [
    "Worlds2017_HighBar = pd.DataFrame(Worlds2017.loc[Worlds2017['event'] == 'High Bar'])"
   ]
  },
  {
   "cell_type": "code",
   "execution_count": 41,
   "metadata": {},
   "outputs": [
    {
     "data": {
      "text/plain": [
       "total      13.27\n",
       "D_score     5.56\n",
       "E_score     7.71\n",
       "dtype: float64"
      ]
     },
     "execution_count": 41,
     "metadata": {},
     "output_type": "execute_result"
    }
   ],
   "source": [
    "Worlds2017_HighBar= pd.DataFrame(Worlds2017.loc[Worlds2017['event'] == 'High Bar'])"
   ]
  },
  {
   "attachments": {},
   "cell_type": "markdown",
   "metadata": {},
   "source": [
    "## Bar Chart showing average total score, average E score and average D score across all events as calculated above"
   ]
  },
  {
   "cell_type": "code",
   "execution_count": 42,
   "metadata": {},
   "outputs": [
    {
     "data": {
      "image/png": "[encoded data removed]",
      "text/plain": [
       "<Figure size 640x480 with 1 Axes>"
      ]
     },
     "metadata": {},
     "output_type": "display_data"
    }
   ],
   "source": [
    "import matplotlib.pyplot as plt\n",
    "import numpy as np\n",
    "\n",
    "event = (\"Vault\", \"PBars\", \"Floor\", \"Rings\", \"High Bar\", \"Pommel Horse\")\n",
    "event_means = {'Total': (14.29, 14.19, 13.81, 13.59, 13.27, 13.21), 'E_score': (9.06, 8.29, 8.11, 8.24, 7.71, 7.73),\n",
    "'D_score': (5.23, 5.9, 5.71, 5.35, 5.56, 5.48) }\n",
    "\n",
    "x = np.arange(len(event))\n",
    "width = 0.25\n",
    "multiplier = 0\n",
    "\n",
    "fig, ax = plt.subplots(constrained_layout=True)\n",
    "\n",
    "for attribute, measurement in event_means.items():\n",
    "    offset = width * multiplier\n",
    "    rects = ax.bar(x + offset, measurement, width, label=attribute)\n",
    "    ax.bar_label(rects, padding=3)\n",
    "    multiplier += 1\n",
    "\n",
    "ax.set_ylabel('Average score (points)')\n",
    "ax.set_title('Mens Gymnastics Events by average score')\n",
    "ax.set_xticks(x + width, event)\n",
    "ax.legend(loc='upper left', ncols=3)\n",
    "ax.set_ylim(0, 18)\n",
    "\n",
    "plt.show()"
   ]
  },
  {
   "attachments": {},
   "cell_type": "markdown",
   "metadata": {},
   "source": [
    "### You can see from the chart above that Vault has the highest average total score despite having the lowest D score (difficulty score). This means that the E score (execution score) for Vault must be consistently higher than the other events.  Let's look at the data for E scores more closely.  "
   ]
  },
  {
   "attachments": {},
   "cell_type": "markdown",
   "metadata": {},
   "source": [
    "## Creat a list of E scores for each event"
   ]
  },
  {
   "cell_type": "code",
   "execution_count": 43,
   "metadata": {},
   "outputs": [],
   "source": [
    "Vault_E_score = Worlds2017_Vault['E_score'].tolist()\n",
    "\n",
    "PBars_E_score = Worlds2017_PBars['E_score'].tolist()\n",
    "\n",
    "Floor_E_score = Worlds2017_Floor['E_score'].tolist()\n",
    "\n",
    "Rings_E_score = Worlds2017_Rings['E_score'].tolist()\n",
    "\n",
    "HighBar_E_score = Worlds2017_HighBar['E_score'].tolist()\n",
    "\n",
    "Pommel_Horse_E_score = Worlds2017_Pommel_Horse['E_score'].tolist()\n",
    "\n"
   ]
  },
  {
   "attachments": {},
   "cell_type": "markdown",
   "metadata": {},
   "source": [
    "## Calculate mean, median and mode of E scores on each event: note the values for Vault compared to the other events"
   ]
  },
  {
   "cell_type": "code",
   "execution_count": 44,
   "metadata": {},
   "outputs": [
    {
     "name": "stdout",
     "output_type": "stream",
     "text": [
      "\n",
      "The mean E score (execution score) for each event is:\n",
      "       ** Vault: 9.062 **\n",
      "  Parallel Bars: 8.291\n",
      "          Floor: 8.106\n",
      "          Rings: 8.244\n",
      "       High Bar: 7.708\n",
      "   Pommel Horse: 7.728\n",
      "\n",
      "\n",
      "The median E score for each event is:\n",
      "       ** Vault: 9.216 **\n",
      "  Parallel Bars: 8.374\n",
      "          Floor: 8.099\n",
      "          Rings: 8.183\n",
      "       High Bar: 7.966\n",
      "   Pommel Horse: 7.883\n",
      "\n",
      "\n",
      "The mode E score for each event is:\n",
      "       ** Vault: 9.300 **\n",
      "  Parallel Bars: 8.600\n",
      "          Floor: 8.533\n",
      "          Rings: 8.600\n",
      "       High Bar: 8.233\n",
      "   Pommel Horse: 8.133\n"
     ]
    }
   ],
   "source": [
    "import statistics as stats\n",
    "\n",
    "mean_Vault = stats.mean(Vault_E_score)\n",
    "median_Vault = stats.median(Vault_E_score)\n",
    "mode_Vault  = stats.mode(Vault_E_score)\n",
    "\n",
    "mean_PBars = stats.mean(PBars_E_score)\n",
    "median_PBars = stats.median(PBars_E_score)\n",
    "mode_PBars  = stats.mode(PBars_E_score)\n",
    "\n",
    "mean_Floor = stats.mean(Floor_E_score)\n",
    "median_Floor = stats.median(Floor_E_score)\n",
    "mode_Floor  = stats.mode(Floor_E_score)\n",
    "\n",
    "mean_Rings = stats.mean(Rings_E_score)\n",
    "median_Rings = stats.median(Rings_E_score)\n",
    "mode_Rings  = stats.mode(Rings_E_score)\n",
    "\n",
    "mean_HighBar = stats.mean(HighBar_E_score)\n",
    "median_HighBar = stats.median(HighBar_E_score)\n",
    "mode_HighBar  = stats.mode(HighBar_E_score)\n",
    "\n",
    "mean_Pommel_Horse = stats.mean(Pommel_Horse_E_score)\n",
    "median_Pommel_Horse = stats.median(Pommel_Horse_E_score)\n",
    "mode_Pommel_Horse  = stats.mode(Pommel_Horse_E_score)\n",
    "\n",
    "\n",
    "print()\n",
    "print(f'The mean E score (execution score) for each event is:')\n",
    "print(f\"       ** Vault: {mean_Vault:.3f} **\")\n",
    "print(f\"  Parallel Bars: {mean_PBars:.3f}\")\n",
    "print(f\"          Floor: {mean_Floor:.3f}\")\n",
    "print(f\"          Rings: {mean_Rings:.3f}\")\n",
    "print(f\"       High Bar: {mean_HighBar:.3f}\")\n",
    "print(f\"   Pommel Horse: {mean_Pommel_Horse:.3f}\")\n",
    "print()\n",
    "print()\n",
    "print(f'The median E score for each event is:')\n",
    "print(f\"       ** Vault: {median_Vault:.3f} **\")\n",
    "print(f\"  Parallel Bars: {median_PBars:.3f}\")\n",
    "print(f\"          Floor: {median_Floor:.3f}\")\n",
    "print(f\"          Rings: {median_Rings:.3f}\")\n",
    "print(f\"       High Bar: {median_HighBar:.3f}\")\n",
    "print(f\"   Pommel Horse: {median_Pommel_Horse:.3f}\")\n",
    "print()\n",
    "print()\n",
    "print(f'The mode E score for each event is:')\n",
    "print(f\"       ** Vault: {mode_Vault:.3f} **\")\n",
    "print(f\"  Parallel Bars: {mode_PBars:.3f}\")\n",
    "print(f\"          Floor: {mode_Floor:.3f}\")\n",
    "print(f\"          Rings: {mode_Rings:.3f}\")\n",
    "print(f\"       High Bar: {mode_HighBar:.3f}\")\n",
    "print(f\"   Pommel Horse: {mode_Pommel_Horse:.3f}\")\n"
   ]
  },
  {
   "attachments": {},
   "cell_type": "markdown",
   "metadata": {},
   "source": [
    "## Calculate the standard deviation and variance of E scores on each event"
   ]
  },
  {
   "cell_type": "code",
   "execution_count": 45,
   "metadata": {},
   "outputs": [
    {
     "name": "stdout",
     "output_type": "stream",
     "text": [
      "\n",
      "The standard deviation of E scores for each event are:\n",
      "     ** Vault: 0.425 **\n",
      "Parallel Bars: 0.521\n",
      "        Floor: 0.492\n",
      "        Rings: 0.414\n",
      "     High Bar: 0.644\n",
      " Pommel Horse: 0.712\n",
      "\n",
      "\n",
      "The variance of E scores for each event are:\n",
      "     ** Vault: 0.181 **\n",
      "Parallel Bars: 0.272\n",
      "        Floor: 0.242\n",
      "        Rings: 0.171\n",
      "     High Bar: 0.415\n",
      " Pommel Horse: 0.507\n",
      "\n",
      "The standard deviation and variance for Vault are 2nd to lowest of all the events\n",
      "Rings had the lowest variability of scores\n"
     ]
    }
   ],
   "source": [
    "def stdev_event(E_scorelist):\n",
    "    \"\"\"Returns standard deviation of E score list\"\"\"\n",
    "    return stats.stdev(E_scorelist)\n",
    "\n",
    "\n",
    "print()\n",
    "print(f'The standard deviation of E scores for each event are:')\n",
    "print(f'     ** Vault: {stdev_event(Vault_E_score):.3f} **')\n",
    "print(f'Parallel Bars: {stdev_event(PBars_E_score):.3f}')\n",
    "print(f'        Floor: {stdev_event(Floor_E_score):.3f}')\n",
    "print(f'        Rings: {stdev_event(Rings_E_score):.3f}')\n",
    "print(f'     High Bar: {stdev_event(HighBar_E_score):.3f}')\n",
    "print(f' Pommel Horse: {stdev_event(Pommel_Horse_E_score):.3f}')\n",
    "print()\n",
    "\n",
    "def var_event(E_scorelist):\n",
    "    \"\"\"Returns variance of E score list\"\"\"\n",
    "    return stats.variance(E_scorelist)\n",
    "\n",
    "print()\n",
    "print(f'The variance of E scores for each event are:')\n",
    "print(f'     ** Vault: {var_event(Vault_E_score):.3f} **')\n",
    "print(f'Parallel Bars: {var_event(PBars_E_score):.3f}')\n",
    "print(f'        Floor: {var_event(Floor_E_score):.3f}')\n",
    "print(f'        Rings: {var_event(Rings_E_score):.3f}')\n",
    "print(f'     High Bar: {var_event(HighBar_E_score):.3f}')\n",
    "print(f' Pommel Horse: {var_event(Pommel_Horse_E_score):.3f}')\n",
    "print()    \n",
    "print('The standard deviation and variance for Vault are 2nd to lowest of all the events')\n",
    "print('Rings had the lowest variability of scores')\n",
    "\n"
   ]
  },
  {
   "attachments": {},
   "cell_type": "markdown",
   "metadata": {},
   "source": [
    "## Use list comprehensions to filter the data and get the number of E scores above 8.8 for each event"
   ]
  },
  {
   "cell_type": "code",
   "execution_count": 49,
   "metadata": {},
   "outputs": [
    {
     "name": "stdout",
     "output_type": "stream",
     "text": [
      "\n",
      "The original dataset includes 24 scores for each event\n",
      "The following lists show the E scores in each event that are above 8.8:\n",
      "\n",
      " Vault: [9.3, 9.3, 9.4, 9.183, 9.366, 8.9, 9.3, 9.233, 9.333, 9.2, 9.233, 9.3, 9.333, 9.3, 9.2, 9.1, 9.066, 9.3, 9.066, 8.933, 8.833]\n",
      " For vault, 21 of 24 E scores were above 8.8\n",
      "\n",
      " Parallel Bars: [8.866, 9.266]\n",
      " For Parallel Bars, 2 of 24 E scores were above 8.8\n",
      "\n",
      " Floor: []\n",
      " For Floor, 0 of 24 E scores were above 8.8\n",
      "\n",
      " Rings: [9.0, 8.933]\n",
      " For Rings, 2 of 24 E scores were above 8.8\n",
      "\n",
      " High Bar: []\n",
      " For High Bar, 0 of 24 E scores were above 8.8\n",
      "\n",
      " Pommel Horse: []\n",
      " For Pommel Horse, 0 of 24 E scores were above 8.8\n",
      "\n"
     ]
    }
   ],
   "source": [
    "\n",
    "\n",
    "def event_above_8_8(E_score_list):                              # can use a function with list comprehansion\n",
    "    \"\"\"Returns a list of E scores above 8.8\"\"\"\n",
    "    return [score for score in E_score_list if score > 8.8]\n",
    "\n",
    "\n",
    "Vault_above_8_8 = event_above_8_8(Vault_E_score)\n",
    "\n",
    "PBars_above_8_8 = [score for score in PBars_E_score if score > 8.8]     # can use list comprehension outside of a function\n",
    "\n",
    "Floor_above_8_8 = [score for score in Floor_E_score if score > 8.8]\n",
    "\n",
    "Rings_above_8_8 = [score for score in Rings_E_score if score > 8.8]\n",
    "\n",
    "HighBar_above_8_8 = [score for score in HighBar_E_score if score > 8.8]\n",
    "\n",
    "Pommel_Horse_above_8_8 = [score for score in Pommel_Horse_E_score if score > 8.8]\n",
    "\n",
    "print()\n",
    "print('The original dataset includes 24 scores for each event')\n",
    "print('The following lists show the E scores in each event that are above 8.8:')\n",
    "print()\n",
    "print(f' Vault: {Vault_above_8_8}')                    \n",
    "print(f' For vault, {len(Vault_above_8_8)} of 24 E scores were above 8.8')   \n",
    "print()\n",
    "print(f' Parallel Bars: {PBars_above_8_8}')\n",
    "print(f' For Parallel Bars, {len(PBars_above_8_8)} of 24 E scores were above 8.8')\n",
    "print()\n",
    "print(f' Floor: {Floor_above_8_8}')\n",
    "print(f' For Floor, {len(Floor_above_8_8)} of 24 E scores were above 8.8')\n",
    "print()\n",
    "print(f' Rings: {Rings_above_8_8}')\n",
    "print(f' For Rings, {len(Rings_above_8_8)} of 24 E scores were above 8.8')\n",
    "print()\n",
    "print(f' High Bar: {HighBar_above_8_8}')\n",
    "print(f' For High Bar, {len(HighBar_above_8_8)} of 24 E scores were above 8.8')\n",
    "print()\n",
    "print(f' Pommel Horse: {Pommel_Horse_above_8_8}')\n",
    "print(f' For Pommel Horse, {len(Pommel_Horse_above_8_8)} of 24 E scores were above 8.8')\n",
    "print()\n",
    "\n",
    "\n"
   ]
  },
  {
   "attachments": {},
   "cell_type": "markdown",
   "metadata": {},
   "source": [
    "### By comparing these lists you can clearly see that Vault E scores are higher than the other events.  \n",
    "### Three events didn't have any E scores above 8.8 and two events only had 2 E scores above 8.8.\n",
    "### Vault had 21 E scores above 8.8!\n",
    "###  \n",
    "###   "
   ]
  },
  {
   "attachments": {},
   "cell_type": "markdown",
   "metadata": {},
   "source": [
    "## Histograms for each event showing E score vs number of scores"
   ]
  },
  {
   "cell_type": "code",
   "execution_count": 47,
   "metadata": {},
   "outputs": [
    {
     "data": {
      "text/plain": [
       "(0.0, 22.0)"
      ]
     },
     "execution_count": 47,
     "metadata": {},
     "output_type": "execute_result"
    },
    {
     "data": {
      "image/png": "[encoded data removed]",
      "text/plain": [
       "<Figure size 1800x1200 with 6 Axes>"
      ]
     },
     "metadata": {},
     "output_type": "display_data"
    }
   ],
   "source": [
    "bins = [6, 6.5, 7, 7.5, 8, 8.5, 9, 9.5]\n",
    "plt.figure(figsize=(18,12))\n",
    "plt.subplot(2,3,1)\n",
    "plt.hist(Floor_E_score, bins=bins, edgecolor='black')\n",
    "plt.xlabel('Floor E score (points)')\n",
    "plt.ylabel('number of scores')\n",
    "plt.title('Floor execution score vs number of scores')\n",
    "plt.ylim(0, 22)\n",
    "plt.subplot(2,3,2)\n",
    "plt.hist(Vault_E_score, bins=bins, edgecolor='black', color='red')\n",
    "plt.xlabel('Vault E score (points)')\n",
    "plt.ylabel('number of scores')\n",
    "plt.title('Vault execution score vs number of scores')\n",
    "plt.ylim(0, 22)\n",
    "plt.subplot(2,3,3)\n",
    "plt.hist(Rings_E_score, bins=bins, edgecolor='black')\n",
    "plt.xlabel('Rings E score (points)')\n",
    "plt.ylabel('number of scores')\n",
    "plt.title('Rings execution score vs number of scores')\n",
    "plt.ylim(0, 22)\n",
    "plt.subplot(2,3,4)\n",
    "plt.hist(PBars_E_score, bins=bins, edgecolor='black')\n",
    "plt.xlabel('Parallel Bars E score (points)')\n",
    "plt.ylabel('number of scores')\n",
    "plt.title('Parallel Bars execution score vs number of scores')\n",
    "plt.ylim(0, 22)\n",
    "plt.subplot(2,3,6)\n",
    "plt.hist(HighBar_E_score, bins=bins, edgecolor='black')\n",
    "plt.xlabel('High Bar E score (points)')\n",
    "plt.ylabel('number of scores')\n",
    "plt.title('High Bar execution score vs number of scores')\n",
    "plt.ylim(0, 22)\n",
    "plt.subplot(2,3,5)\n",
    "plt.hist(Pommel_Horse_E_score, bins=bins, edgecolor='black')\n",
    "plt.xlabel('Pommel Horse E score (points)')\n",
    "plt.ylabel('number of scores')\n",
    "plt.title('Pommel Horse execution score vs number of scores')\n",
    "plt.ylim(0, 22)\n",
    "\n",
    "\n"
   ]
  },
  {
   "attachments": {},
   "cell_type": "markdown",
   "metadata": {},
   "source": [
    "## Combined histogram showing E scores vs number of scores for all events"
   ]
  },
  {
   "cell_type": "code",
   "execution_count": 48,
   "metadata": {},
   "outputs": [
    {
     "data": {
      "text/plain": [
       "<matplotlib.legend.Legend at 0x7f9ca7d848b0>"
      ]
     },
     "execution_count": 48,
     "metadata": {},
     "output_type": "execute_result"
    },
    {
     "data": {
      "image/png": "[encoded data removed]",
      "text/plain": [
       "<Figure size 640x480 with 1 Axes>"
      ]
     },
     "metadata": {},
     "output_type": "display_data"
    }
   ],
   "source": [
    "bins = [6, 6.5, 7, 7.5, 8, 8.5, 9, 9.5]\n",
    "\n",
    "plt.hist([Vault_E_score, PBars_E_score, Floor_E_score, Rings_E_score, HighBar_E_score, Pommel_Horse_E_score], bins=bins, color =['red', 'orange', 'green', 'yellow', 'blue', 'purple'], edgecolor='black', label = ['Vault', 'Parallel Bars', 'Floor', 'Rings', 'High Bar', 'Pommel Horse'])\n",
    "plt.xlabel('E score (points)')\n",
    "plt.ylabel('number of scores')\n",
    "plt.title('Execution score vs number of scores')\n",
    "plt.legend(loc= 'upper left')"
   ]
  },
  {
   "attachments": {},
   "cell_type": "markdown",
   "metadata": {},
   "source": [
    "## You can see from the data analysis above that the Execution score (E score) for Vault was higher than any other event during the Men's All Around Competition at the 2017 World Gymnastics Championships"
   ]
  },
  {
   "attachments": {},
   "cell_type": "markdown",
   "metadata": {},
   "source": [
    "## Is the E score for Vault always higher?  Search the web to find another dataset and see what your results are!"
   ]
  }
 ],
 "metadata": {
  "kernelspec": {
   "display_name": "base",
   "language": "python",
   "name": "python3"
  },
  "language_info": {
   "codemirror_mode": {
    "name": "ipython",
    "version": 3
   },
   "file_extension": ".py",
   "mimetype": "text/x-python",
   "name": "python",
   "nbconvert_exporter": "python",
   "pygments_lexer": "ipython3",
   "version": "3.8.16"
  },
  "orig_nbformat": 4,
  "vscode": {
   "interpreter": {
    "hash": "833598fd57254e80696e56fdf22b0bd22a65cc71ed2edfbdcc902e21d461d368"
   }
  }
 },
 "nbformat": 4,
 "nbformat_minor": 2
}
